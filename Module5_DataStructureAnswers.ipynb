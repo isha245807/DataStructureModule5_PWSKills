{
 "cells": [
  {
   "cell_type": "markdown",
   "id": "a408aec1-e3ed-49cd-8f84-0cbc41e4c646",
   "metadata": {},
   "source": [
    "# Question_1st: Discuss string slicing and provide examples."
   ]
  },
  {
   "cell_type": "code",
   "execution_count": 4,
   "id": "6d9585fc-f76c-440b-a322-4e02ac1dd034",
   "metadata": {},
   "outputs": [],
   "source": [
    "#answes"
   ]
  },
  {
   "cell_type": "code",
   "execution_count": 5,
   "id": "d4ef5e87-b334-4e10-8d35-027da5bd9142",
   "metadata": {},
   "outputs": [],
   "source": [
    "#Description : String slicing in programming refers to extracting a subset of characters from a string based on \n",
    "#specified start and end positions.\n",
    "#This operation is commonly used in many programming languages, including Python, which has particularly \n",
    "#intuitive syntax for slicing."
   ]
  },
  {
   "cell_type": "code",
   "execution_count": 6,
   "id": "87c3cc45-5756-4375-a84d-5a6af20b66a2",
   "metadata": {},
   "outputs": [],
   "source": [
    "#In Python, slicing is done using the following syntax:\n",
    "\n",
    "# \" string[start:end:step] \"\n",
    "\n",
    "#start: The index of the first character to include in the slice.\n",
    "#end: The index of the first character to exclude from the slice.\n",
    "#step: The interval between characters to include in the slice."
   ]
  },
  {
   "cell_type": "code",
   "execution_count": 7,
   "id": "a66aa4ec-154c-44e4-b72c-1726768e581b",
   "metadata": {},
   "outputs": [
    {
     "data": {
      "text/plain": [
       "'Da'"
      ]
     },
     "execution_count": 7,
     "metadata": {},
     "output_type": "execute_result"
    }
   ],
   "source": [
    "#Examples: \n",
    "text= \"Data Science\"\n",
    "basicSlice= text[0:2] # print string from 0 to 6-1 characters\n",
    "basicSlice # Output is 'Da'"
   ]
  },
  {
   "cell_type": "code",
   "execution_count": 8,
   "id": "e8b4ec8b-97b0-4f07-8f5f-d7e76dca6413",
   "metadata": {},
   "outputs": [
    {
     "data": {
      "text/plain": [
       "'ta Science'"
      ]
     },
     "execution_count": 8,
     "metadata": {},
     "output_type": "execute_result"
    }
   ],
   "source": [
    "omitStartSlice=text[2:] # takes characters from index 2 to the end \n",
    "omitStartSlice# Output is 'ta Science'"
   ]
  },
  {
   "cell_type": "code",
   "execution_count": 9,
   "id": "e9f0d6b2-e29d-498b-ae5e-5aaffa4e4d11",
   "metadata": {},
   "outputs": [
    {
     "data": {
      "text/plain": [
       "'Data S'"
      ]
     },
     "execution_count": 9,
     "metadata": {},
     "output_type": "execute_result"
    }
   ],
   "source": [
    "omitENdSlice=text[:6]# takes characters from index 0 to the 6-1=5 as end \n",
    "omitENdSlice# Output is 'Data S'"
   ]
  },
  {
   "cell_type": "code",
   "execution_count": 10,
   "id": "3873228a-90d7-4b59-9ca8-6cba5e11ccaa",
   "metadata": {},
   "outputs": [
    {
     "data": {
      "text/plain": [
       "'Dacn'"
      ]
     },
     "execution_count": 10,
     "metadata": {},
     "output_type": "execute_result"
    }
   ],
   "source": [
    "stepSlice= text[::3] # takes every 3 indexs , like 0 3 6 9 ....\n",
    "stepSlice# Output is 'Dacn'"
   ]
  },
  {
   "cell_type": "code",
   "execution_count": 11,
   "id": "5087b3fd-6dad-4605-ae8c-5e0421c05860",
   "metadata": {},
   "outputs": [
    {
     "data": {
      "text/plain": [
       "'Data Scien'"
      ]
     },
     "execution_count": 11,
     "metadata": {},
     "output_type": "execute_result"
    }
   ],
   "source": [
    "negatveSlice= text[:-2] # if negative at end position it give all letters expect mentioned negative index , \n",
    "#Here skill last 2 letters \n",
    "negatveSlice#output is 'Data Scien'"
   ]
  },
  {
   "cell_type": "code",
   "execution_count": 12,
   "id": "2ce95b13-5f67-4cb6-a369-dc784884fc9b",
   "metadata": {},
   "outputs": [
    {
     "data": {
      "text/plain": [
       "'nce'"
      ]
     },
     "execution_count": 12,
     "metadata": {},
     "output_type": "execute_result"
    }
   ],
   "source": [
    "negatveSlice1=text[-3:] #if at start negative is mentioned it give only mentioned last index values\n",
    "negatveSlice1#output is 'nce'"
   ]
  },
  {
   "cell_type": "code",
   "execution_count": 13,
   "id": "33c29e31-668b-414c-a852-912777bfe6f8",
   "metadata": {},
   "outputs": [
    {
     "data": {
      "text/plain": [
       "'ecneicS ataD'"
      ]
     },
     "execution_count": 13,
     "metadata": {},
     "output_type": "execute_result"
    }
   ],
   "source": [
    "reverseSlice=text[::-1] #in step if negative its give string in reverse wise\n",
    "reverseSlice #Output is 'ecneicS ataD'"
   ]
  },
  {
   "cell_type": "code",
   "execution_count": null,
   "id": "ea6dd707-03db-485b-aa52-607e5108049c",
   "metadata": {},
   "outputs": [],
   "source": []
  },
  {
   "cell_type": "markdown",
   "id": "3045ee95-41c9-4e1b-9ccc-beec5847cee8",
   "metadata": {},
   "source": [
    "# Question_2: Explain the key features of lists in Python.\n"
   ]
  },
  {
   "cell_type": "code",
   "execution_count": 14,
   "id": "c7901a98-c33b-409d-97a6-38c1c5f861b0",
   "metadata": {},
   "outputs": [],
   "source": [
    "#answer"
   ]
  },
  {
   "cell_type": "code",
   "execution_count": 15,
   "id": "67f85048-5766-41c5-b34f-490bd563b017",
   "metadata": {},
   "outputs": [],
   "source": [
    "#Description : List is Ordered,mutable, Heterogeneous collection of elements. List can contain the collection of numbers, \n",
    "#string , tuple and sets collection , it can hold another list as well . \n",
    "\n",
    "# We can perform verious operations on List data in Python . That is add remove multiply elements , \n",
    "#also its mutable hence we can perform modification of elements as well . \n",
    "#List can be used data structure methods such as \" Stack \" and \" queue \"\n",
    "#Use cases:\n",
    "# can share shopping details , student and teacher details , employee details . "
   ]
  },
  {
   "cell_type": "code",
   "execution_count": 16,
   "id": "7dfb31a4-8f7f-4d78-8249-75c2b265d6ca",
   "metadata": {},
   "outputs": [
    {
     "data": {
      "text/plain": [
       "['Isha', 'Student of PWSKills', 560056, False]"
      ]
     },
     "execution_count": 16,
     "metadata": {},
     "output_type": "execute_result"
    }
   ],
   "source": [
    "#Example : Mized data list and performining verious operation on List data \n",
    "\n",
    "data =[\"Isha\", \"Student of PWSKills\", 560056, False]\n",
    "data # COllection of string , numbers and boolean data"
   ]
  },
  {
   "cell_type": "code",
   "execution_count": 17,
   "id": "4ac6333f-8fc5-4a6e-9972-e7eb42c09f42",
   "metadata": {},
   "outputs": [
    {
     "data": {
      "text/plain": [
       "['Isha', 'Student of PWSKills', 560056, False, 'Happy']"
      ]
     },
     "execution_count": 17,
     "metadata": {},
     "output_type": "execute_result"
    }
   ],
   "source": [
    "data.append(\"Happy\") #Append fn always add data at the end of the list \n",
    "data"
   ]
  },
  {
   "cell_type": "code",
   "execution_count": 18,
   "id": "900344e1-8dd9-49fe-9462-5f718f01d807",
   "metadata": {},
   "outputs": [
    {
     "data": {
      "text/plain": [
       "['Isha', 'Student of PWSKills', 'Data Science', 560056, False, 'Happy']"
      ]
     },
     "execution_count": 18,
     "metadata": {},
     "output_type": "execute_result"
    }
   ],
   "source": [
    "data.insert(2,\"Data Science\") # insert fn used to add the element at the perticular mentioned index\n",
    "data # 'Data Science' added at 2nd index"
   ]
  },
  {
   "cell_type": "code",
   "execution_count": 19,
   "id": "e67a9954-586f-4af5-8332-ee527f24d477",
   "metadata": {},
   "outputs": [
    {
     "data": {
      "text/plain": [
       "['Isha', 'Student of PWSKills', 'Data Science']"
      ]
     },
     "execution_count": 19,
     "metadata": {},
     "output_type": "execute_result"
    }
   ],
   "source": [
    "data[0:3]#display element frm 0 to 3-1 index"
   ]
  },
  {
   "cell_type": "code",
   "execution_count": 20,
   "id": "b71ddf96-7406-4e68-bcc8-2547d788898d",
   "metadata": {},
   "outputs": [
    {
     "data": {
      "text/plain": [
       "['Isha', 'Data Science', False]"
      ]
     },
     "execution_count": 20,
     "metadata": {},
     "output_type": "execute_result"
    }
   ],
   "source": [
    "data[::2]#display elements by adding 2 steps thats 0 , 2 , 4 ...."
   ]
  },
  {
   "cell_type": "code",
   "execution_count": 21,
   "id": "6066c564-6db3-43d7-a92e-ac253836a6d4",
   "metadata": {},
   "outputs": [
    {
     "data": {
      "text/plain": [
       "['Isha',\n",
       " 'Student of PWSKills',\n",
       " 'Data Science',\n",
       " 560056,\n",
       " False,\n",
       " 'Happy',\n",
       " 1,\n",
       " 2,\n",
       " 3]"
      ]
     },
     "execution_count": 21,
     "metadata": {},
     "output_type": "execute_result"
    }
   ],
   "source": [
    "data2=[1,2,3]\n",
    "data.extend(data2) # Extend fn add add the another list's element .\n",
    "data"
   ]
  },
  {
   "cell_type": "code",
   "execution_count": 22,
   "id": "acf27fb7-f645-456e-94b4-f5ab72755941",
   "metadata": {},
   "outputs": [
    {
     "data": {
      "text/plain": [
       "0"
      ]
     },
     "execution_count": 22,
     "metadata": {},
     "output_type": "execute_result"
    }
   ],
   "source": [
    "data.index(\"Isha\") # Gives the index of the data "
   ]
  },
  {
   "cell_type": "code",
   "execution_count": 23,
   "id": "5d5a0953-f77c-4227-ae37-5014f0cf2f9a",
   "metadata": {},
   "outputs": [
    {
     "data": {
      "text/plain": [
       "3"
      ]
     },
     "execution_count": 23,
     "metadata": {},
     "output_type": "execute_result"
    }
   ],
   "source": [
    "data.pop() # remove last element"
   ]
  },
  {
   "cell_type": "code",
   "execution_count": 24,
   "id": "284ac74f-1ae5-421c-be0c-2ebc8c777543",
   "metadata": {},
   "outputs": [
    {
     "data": {
      "text/plain": [
       "['Student of PWSKills', 'Data Science', 560056, False, 'Happy', 1, 2]"
      ]
     },
     "execution_count": 24,
     "metadata": {},
     "output_type": "execute_result"
    }
   ],
   "source": [
    "data.remove(\"Isha\") #Remove fn remove the perticular element \n",
    "data # List data after removing \"Isha \""
   ]
  },
  {
   "cell_type": "code",
   "execution_count": 25,
   "id": "5730edd0-3274-4512-88f7-0f1dc3211e55",
   "metadata": {},
   "outputs": [
    {
     "data": {
      "text/plain": [
       "['Student of PWSKills',\n",
       " 'Data Science',\n",
       " 560056,\n",
       " False,\n",
       " 'Happy',\n",
       " 1,\n",
       " 2,\n",
       " ['Nested list data']]"
      ]
     },
     "execution_count": 25,
     "metadata": {},
     "output_type": "execute_result"
    }
   ],
   "source": [
    "data3=[\"Nested list data\"]\n",
    "data.append(data3) # Data3 will be added as list inside the \"data \" list \n",
    "data"
   ]
  },
  {
   "cell_type": "code",
   "execution_count": 26,
   "id": "d400ed53-995a-4d10-bee0-e296066b872f",
   "metadata": {},
   "outputs": [],
   "source": [
    "#In Python list has verious data oepration function which can ber performed to add , remove data at perticular element \n",
    "#as well as for stack and queue data strcutures . we can perform sorting as well using List. Above are the example of  \n",
    "#using these functions on list "
   ]
  },
  {
   "cell_type": "markdown",
   "id": "ce347fe9-366c-4f81-8bda-893936d0013e",
   "metadata": {},
   "source": [
    "# Question_3 : Describe how to accesse modify and delete elements in a list with examples."
   ]
  },
  {
   "cell_type": "code",
   "execution_count": 27,
   "id": "c83af089-7a56-4596-8fa4-e2059b45c303",
   "metadata": {},
   "outputs": [],
   "source": [
    "#Answer"
   ]
  },
  {
   "cell_type": "code",
   "execution_count": 28,
   "id": "e4878b08-1ec1-4ca2-a718-a28be0207709",
   "metadata": {},
   "outputs": [],
   "source": [
    "#In Python, lists are highly flexible and allow you to access, modify, and delete elements easily.\n",
    "#Here's a detailed explanation with examples:"
   ]
  },
  {
   "cell_type": "code",
   "execution_count": 29,
   "id": "b3651ad5-2019-4dd9-ab9d-5eca14cede01",
   "metadata": {},
   "outputs": [],
   "source": [
    "#Accessing Elements:\n",
    "# We can able to access the elements using the index and slicing as well. "
   ]
  },
  {
   "cell_type": "code",
   "execution_count": 30,
   "id": "620a0749-bc6b-42e1-96a8-5515fea96412",
   "metadata": {},
   "outputs": [
    {
     "data": {
      "text/plain": [
       "['Isha', 'PW skills', 1401, True, '@gmail']"
      ]
     },
     "execution_count": 30,
     "metadata": {},
     "output_type": "execute_result"
    }
   ],
   "source": [
    "#1. Acess the elements of the list using the index\n",
    "listData=[\"Isha\",\"PW skills\", 1401 , True, \"@gmail\"] # In list index always start from 0 and end lenngth-1\n",
    "listData"
   ]
  },
  {
   "cell_type": "code",
   "execution_count": 31,
   "id": "6ad9ef65-7905-40db-a404-eb31c86c7675",
   "metadata": {},
   "outputs": [
    {
     "data": {
      "text/plain": [
       "'Isha'"
      ]
     },
     "execution_count": 31,
     "metadata": {},
     "output_type": "execute_result"
    }
   ],
   "source": [
    "listData[0] # Give values of 0 index that is first index"
   ]
  },
  {
   "cell_type": "code",
   "execution_count": 32,
   "id": "672a64f6-0217-4bb3-ae7e-dfd8f0c2c1b2",
   "metadata": {},
   "outputs": [
    {
     "data": {
      "text/plain": [
       "'@gmail'"
      ]
     },
     "execution_count": 32,
     "metadata": {},
     "output_type": "execute_result"
    }
   ],
   "source": [
    "listData[len(listData)-1] #gives last index value that is length -1"
   ]
  },
  {
   "cell_type": "code",
   "execution_count": 33,
   "id": "42bcedfb-331c-4e54-b8ff-1bb3d143e243",
   "metadata": {},
   "outputs": [
    {
     "data": {
      "text/plain": [
       "'@gmail'"
      ]
     },
     "execution_count": 33,
     "metadata": {},
     "output_type": "execute_result"
    }
   ],
   "source": [
    "listData[-1] #negative value indiate access the element from last element and -1 is last index"
   ]
  },
  {
   "cell_type": "code",
   "execution_count": 34,
   "id": "e6a81d90-11c6-4045-83dd-63ea67e5fa92",
   "metadata": {},
   "outputs": [
    {
     "data": {
      "text/plain": [
       "[1401, True, '@gmail']"
      ]
     },
     "execution_count": 34,
     "metadata": {},
     "output_type": "execute_result"
    }
   ],
   "source": [
    "#2. Acess the elements of the list using the Slicing\n",
    "listData[2::] #Gives value from mentioned index at the start parameter"
   ]
  },
  {
   "cell_type": "code",
   "execution_count": 35,
   "id": "25b76a58-d3ed-422d-9a2e-457c05d44186",
   "metadata": {},
   "outputs": [
    {
     "data": {
      "text/plain": [
       "['Isha', 'PW skills', 1401]"
      ]
     },
     "execution_count": 35,
     "metadata": {},
     "output_type": "execute_result"
    }
   ],
   "source": [
    "listData[:3:] #provide the element till the index which is mentioned at the end parameter"
   ]
  },
  {
   "cell_type": "code",
   "execution_count": 36,
   "id": "e963fb60-e40e-4064-8b87-6c63e7453da9",
   "metadata": {},
   "outputs": [
    {
     "data": {
      "text/plain": [
       "['Isha', True]"
      ]
     },
     "execution_count": 36,
     "metadata": {},
     "output_type": "execute_result"
    }
   ],
   "source": [
    "listData[::3] #Give element as steps mentioned in the step paramter . Here give values at 0,3,6...."
   ]
  },
  {
   "cell_type": "code",
   "execution_count": 37,
   "id": "060aba21-3bb7-41a6-9246-a70bf7cd8432",
   "metadata": {},
   "outputs": [
    {
     "data": {
      "text/plain": [
       "['Isha', 'PW skills', 1401]"
      ]
     },
     "execution_count": 37,
     "metadata": {},
     "output_type": "execute_result"
    }
   ],
   "source": [
    "listData[:-2] # Negative value at end indicate it skip the index from last and display "
   ]
  },
  {
   "cell_type": "code",
   "execution_count": 38,
   "id": "c7528172-358e-450a-85a5-f3dcb13569d2",
   "metadata": {},
   "outputs": [
    {
     "data": {
      "text/plain": [
       "[1401, True, '@gmail']"
      ]
     },
     "execution_count": 38,
     "metadata": {},
     "output_type": "execute_result"
    }
   ],
   "source": [
    "listData[-3:] # Negative value at sart indicate provide only last elements as mentioned index"
   ]
  },
  {
   "cell_type": "code",
   "execution_count": null,
   "id": "273dcadf-f284-4c0d-b6bd-9d7ddce1115c",
   "metadata": {},
   "outputs": [],
   "source": []
  },
  {
   "cell_type": "code",
   "execution_count": 39,
   "id": "d51232f1-7bf8-4ba8-b2dd-5924fe8e5c3b",
   "metadata": {},
   "outputs": [],
   "source": [
    "#Modify the list elements :\n",
    "# We can modify the list element directly by assigning new value to them , by using slicing as well \n",
    "#List data can be extended using extend function "
   ]
  },
  {
   "cell_type": "code",
   "execution_count": 40,
   "id": "e9810738-5ab3-4fc7-a9c9-a36c7751238b",
   "metadata": {},
   "outputs": [
    {
     "data": {
      "text/plain": [
       "['Isha', 'Swathi', ' Abbas ']"
      ]
     },
     "execution_count": 40,
     "metadata": {},
     "output_type": "execute_result"
    }
   ],
   "source": [
    "#Example of directy modifying\n",
    "studentData=[\"Isha\", \"Swathi\", \" Abbas \"]\n",
    "studentData"
   ]
  },
  {
   "cell_type": "code",
   "execution_count": 41,
   "id": "782b61e0-b9cd-4e67-bb27-bef73ddff29d",
   "metadata": {},
   "outputs": [
    {
     "data": {
      "text/plain": [
       "['Isha', 'Isha J', ' Abbas ']"
      ]
     },
     "execution_count": 41,
     "metadata": {},
     "output_type": "execute_result"
    }
   ],
   "source": [
    "studentData[1]=\"Isha J\" # Modifying 1st indexed data from \"Swathi\" to \" Isha J\"\n",
    "studentData"
   ]
  },
  {
   "cell_type": "code",
   "execution_count": 42,
   "id": "a02c36ac-4c4d-407b-9fc2-05ac3cb97e26",
   "metadata": {},
   "outputs": [],
   "source": [
    "#Example of using slicing"
   ]
  },
  {
   "cell_type": "code",
   "execution_count": 43,
   "id": "7b4bea0f-87e5-4434-a43f-089a666a2361",
   "metadata": {},
   "outputs": [
    {
     "data": {
      "text/plain": [
       "['ABC', 'Isha J', ' Abbas ']"
      ]
     },
     "execution_count": 43,
     "metadata": {},
     "output_type": "execute_result"
    }
   ],
   "source": [
    "studentData[0:1] =[\"ABC\"] # Added tring in list becouse ABC should be consider as one element , \n",
    "#if we give \"ABC\" as string , its consider each character as one element . \n",
    "studentData"
   ]
  },
  {
   "cell_type": "code",
   "execution_count": null,
   "id": "e135ae9d-e894-4254-987f-0cc2a799e462",
   "metadata": {},
   "outputs": [],
   "source": []
  },
  {
   "cell_type": "code",
   "execution_count": 44,
   "id": "789b90a1-1d98-4a69-a13c-3e35251bfd55",
   "metadata": {},
   "outputs": [
    {
     "data": {
      "text/plain": [
       "['Avatar', 'KGF', 'Oblivision', 'Kirik Party', 'jab we Met']"
      ]
     },
     "execution_count": 44,
     "metadata": {},
     "output_type": "execute_result"
    }
   ],
   "source": [
    "#Delete the list elements :\n",
    "# We can remove the list element using the 3 methonds \n",
    "#1. del\n",
    "#2. remove()\n",
    "#3: pop()\n",
    "\n",
    "#Here is the example using movie data list\n",
    "movieList=[\"Avatar\",\"KGF\", \"Oblivision\", \"Kirik Party\", \"jab we Met\"]\n",
    "movieList"
   ]
  },
  {
   "cell_type": "code",
   "execution_count": 45,
   "id": "974caae4-d140-48f8-b26d-08e9d25e6a60",
   "metadata": {},
   "outputs": [
    {
     "data": {
      "text/plain": [
       "['Avatar', 'KGF', 'Oblivision', 'Kirik Party']"
      ]
     },
     "execution_count": 45,
     "metadata": {},
     "output_type": "execute_result"
    }
   ],
   "source": [
    "#del() : syntax : del list[index] or del list\n",
    "#The del statement removes an element from a list at a specific index or deletes the entire list.\n",
    "del movieList[-1] # Last index has been deleted \n",
    "movieList"
   ]
  },
  {
   "cell_type": "code",
   "execution_count": 46,
   "id": "e4ceac69-8282-429f-8179-4a01eb1778dc",
   "metadata": {},
   "outputs": [
    {
     "data": {
      "text/plain": [
       "['Avatar', 'Oblivision', 'Kirik Party']"
      ]
     },
     "execution_count": 46,
     "metadata": {},
     "output_type": "execute_result"
    }
   ],
   "source": [
    "#remove() : syntax : list.remove(value)\n",
    "#The .remove() method removes the first occurrence of a specified value from the list. \n",
    "#If the value is not found, it raises a ValueError.\n",
    "\n",
    "movieList.remove(\"KGF\") # if KGi found it removes the data else raise the error\n",
    "movieList #\"KGF\"found and removed from the list"
   ]
  },
  {
   "cell_type": "code",
   "execution_count": 47,
   "id": "ea8f17a5-ce46-43f2-97ff-d5109b1bf2e6",
   "metadata": {},
   "outputs": [
    {
     "data": {
      "text/plain": [
       "['Avatar', 'Oblivision']"
      ]
     },
     "execution_count": 47,
     "metadata": {},
     "output_type": "execute_result"
    }
   ],
   "source": [
    "#pop() : synatx list.pop(index)  or list.pop\n",
    "#The .pop() method removes and returns the element at a specified index.\n",
    "#If no index is provided, it removes and returns the last element in the list.\n",
    "#If the index is out of range, it raises an IndexError.\n",
    "\n",
    "movieList.pop() # Not specified the index hence last indexed value has been deleted\n",
    "movieList"
   ]
  },
  {
   "cell_type": "code",
   "execution_count": null,
   "id": "ee958948-32e8-4b1f-a84e-737ad1e32135",
   "metadata": {},
   "outputs": [],
   "source": []
  },
  {
   "cell_type": "markdown",
   "id": "1db59fea-311a-49f3-9395-29dce73fdb84",
   "metadata": {},
   "source": [
    "# Question_4:-Compare and contrast tuples and lists with examples ."
   ]
  },
  {
   "cell_type": "code",
   "execution_count": 48,
   "id": "b2c790e6-b8b6-432a-87ed-7c0d1f8cd40a",
   "metadata": {},
   "outputs": [],
   "source": [
    "#Answer"
   ]
  },
  {
   "cell_type": "code",
   "execution_count": 49,
   "id": "b46d286a-c4fc-4e25-84ef-c8ca697eb016",
   "metadata": {},
   "outputs": [],
   "source": [
    "#Tuples and lists are fundamental data structures in Python used to store collections of items.\n",
    "#Here’s a detailed comparison that highlights both their similarities and differences:"
   ]
  },
  {
   "cell_type": "code",
   "execution_count": 69,
   "id": "46916271-7391-445f-a2d4-9f42ac5b244c",
   "metadata": {},
   "outputs": [
    {
     "name": "stdout",
     "output_type": "stream",
     "text": [
      "List fruit data:\n",
      "Apple\n",
      "Banana\n",
      "Grapes\n",
      "\n",
      "Tuple fruit data:\n",
      "Apple\n",
      "Grapes\n",
      "Orange\n"
     ]
    }
   ],
   "source": [
    "#Similarities\n",
    "\n",
    "#1. Ordered: Both tuples and lists maintain the order of elements. \n",
    "#You can access elements by their index, which is zero-based.\n",
    "\n",
    "#2.  Indexing and Slicing: Both support indexing and slicing. \n",
    "#You can access elements using indices and create sub-sections (slices) of the sequence.\n",
    "\n",
    "#3.  Iterable: Both can be iterated over using loops, such as for loops.\n",
    "\n",
    "#4.  Nested Structures: Both can contain other lists or tuples, allowing for complex nested structures.\n",
    "\n",
    "#Example \n",
    "fruitList = [\"Apple\", \"Banana\", \"Grapes\"] # List data\n",
    "fruitTuple = (\"Apple\", \"Grapes\", \"Orange\") #TUple data\n",
    "print (\"List fruit data:\")\n",
    "for fruit in fruitList:  # Using for loop to iterate element of list \n",
    "    print(fruit)\n",
    "print (\"\\nTuple fruit data:\")\n",
    "for fruit in fruitTuple:# Using for loop to iterate element of Tuple \n",
    "    print(fruit)\n"
   ]
  },
  {
   "cell_type": "code",
   "execution_count": 51,
   "id": "07aeb484-de2b-4a5e-9337-cd4e74e7a3cd",
   "metadata": {},
   "outputs": [],
   "source": [
    "#Differnces:\n",
    "\n",
    "# List and tuples has differnce in *Mutability , *Syntax, *Performance ,\n",
    "#*methods using by both list and tuple ,*Use as Dictionary Keys and * Memory Consumption:"
   ]
  },
  {
   "cell_type": "code",
   "execution_count": 56,
   "id": "51c4fe89-aeb2-474a-b3f2-28711d43d752",
   "metadata": {},
   "outputs": [
    {
     "name": "stdout",
     "output_type": "stream",
     "text": [
      "[1, 2, 3, 4, 5]\n",
      "(1, 2, 3, 4, 5)\n"
     ]
    }
   ],
   "source": [
    "#  1. Syntax \n",
    "#List: Created using square brackets [].\n",
    "#Tuple: Created using parentheses ().\n",
    "lstData=[1,2,3,4,5,]\n",
    "tplData=(1,2,3,4,5)\n",
    "print(lstData)\n",
    "print(tplData)"
   ]
  },
  {
   "cell_type": "code",
   "execution_count": 53,
   "id": "df00dfcf-02ef-49df-a947-55193ba289ec",
   "metadata": {},
   "outputs": [
    {
     "name": "stdout",
     "output_type": "stream",
     "text": [
      "[1, 100, 3, 4, 5]\n"
     ]
    }
   ],
   "source": [
    "# 2.    Mutability:\n",
    "#List: Mutable. You can modify, add, or remove elements.\n",
    "#Tuple: Immutable. Once created, you cannot change its contents.\n",
    "lstData[1]=100 # List 1st indexed data has be modied to 100 from 2\n",
    "print(lstData) "
   ]
  },
  {
   "cell_type": "code",
   "execution_count": 54,
   "id": "664cac5d-8791-4d78-9a7c-d04428d55ea0",
   "metadata": {},
   "outputs": [
    {
     "ename": "TypeError",
     "evalue": "'tuple' object does not support item assignment",
     "output_type": "error",
     "traceback": [
      "\u001b[0;31m---------------------------------------------------------------------------\u001b[0m",
      "\u001b[0;31mTypeError\u001b[0m                                 Traceback (most recent call last)",
      "Cell \u001b[0;32mIn[54], line 1\u001b[0m\n\u001b[0;32m----> 1\u001b[0m \u001b[43mtplData\u001b[49m\u001b[43m[\u001b[49m\u001b[38;5;241;43m1\u001b[39;49m\u001b[43m]\u001b[49m\u001b[38;5;241m=\u001b[39m\u001b[38;5;241m100\u001b[39m \u001b[38;5;66;03m# it throw an error because once data of tuple created cant be modefied \u001b[39;00m\n",
      "\u001b[0;31mTypeError\u001b[0m: 'tuple' object does not support item assignment"
     ]
    }
   ],
   "source": [
    "tplData[1]=100 # it throw an error because once data of tuple created cant be modefied "
   ]
  },
  {
   "cell_type": "code",
   "execution_count": 58,
   "id": "675d9957-7bdf-4f0d-beda-796cc35bbdfd",
   "metadata": {},
   "outputs": [
    {
     "name": "stdout",
     "output_type": "stream",
     "text": [
      "after ading 2 elements  [123, 5, 4, 3, 2, 1, 123, 7]\n",
      "after deleting last elemnt list data is :  [123, 5, 4, 3, 2, 1, 123]\n",
      "Reverse of list data  [123, 1, 2, 3, 4, 5, 123]\n"
     ]
    }
   ],
   "source": [
    "# 3.  methods using by both list and tuple\n",
    "\n",
    "#List: Has methods for modification such as \n",
    "#.append(), .extend(), .remove(), .pop(), .insert(), .sort(), and .reverse().\n",
    "\n",
    "#Tuple: Has fewer methods, mainly .count() and .index().\n",
    "#Tuple are immutable hence has less methods to cofirm apart from accepting the tuple elements \n",
    "\n",
    "lstData.append(7) # append add the element at end \n",
    "lstData.insert(0,123) # Insert add element at place of the index mentioned as 1st parameter \n",
    "print(\"after ading 2 elements \", lstData)\n",
    "lstData.pop() # removes last element if no index mentioned \n",
    "print(\"after deleting last elemnt list data is : \", lstData)\n",
    "lstData.reverse()\n",
    "print(\"Reverse of list data \" , lstData)"
   ]
  },
  {
   "cell_type": "code",
   "execution_count": null,
   "id": "078d7109-db22-462d-bb12-c80e0b4fa434",
   "metadata": {},
   "outputs": [],
   "source": [
    "# 4.  Use as Dictionary Keys:\n",
    "#List: Cannot be used as dictionary keys because they are mutable.\n",
    "#Tuple: Can be used as dictionary keys because they are immutable."
   ]
  },
  {
   "cell_type": "code",
   "execution_count": 59,
   "id": "b8846124-a37c-4b6d-8ed4-f0e7bcbf3574",
   "metadata": {},
   "outputs": [
    {
     "data": {
      "text/plain": [
       "{'Esha': 'Tuple s immetable'}"
      ]
     },
     "execution_count": 59,
     "metadata": {},
     "output_type": "execute_result"
    }
   ],
   "source": [
    "lst1=[\"Isha\"]\n",
    "tpl1=(\"Esha\")\n",
    "discData1 ={ tpl1:\"Tuple s immetable\"}\n",
    "discData"
   ]
  },
  {
   "cell_type": "code",
   "execution_count": 61,
   "id": "4b413989-1c8a-492a-9451-0a7fa280f15b",
   "metadata": {},
   "outputs": [
    {
     "ename": "TypeError",
     "evalue": "unhashable type: 'list'",
     "output_type": "error",
     "traceback": [
      "\u001b[0;31m---------------------------------------------------------------------------\u001b[0m",
      "\u001b[0;31mTypeError\u001b[0m                                 Traceback (most recent call last)",
      "Cell \u001b[0;32mIn[61], line 1\u001b[0m\n\u001b[0;32m----> 1\u001b[0m discData2 \u001b[38;5;241m=\u001b[39m{ lst1:\u001b[38;5;124m\"\u001b[39m\u001b[38;5;124mList s mutable\u001b[39m\u001b[38;5;124m\"\u001b[39m}\n\u001b[1;32m      2\u001b[0m discData2\n",
      "\u001b[0;31mTypeError\u001b[0m: unhashable type: 'list'"
     ]
    }
   ],
   "source": [
    "discData2 ={ lst1:\"List s mutable\"} # throw error becuse  keys values should be immutable and list is mutable \n",
    "discData2"
   ]
  },
  {
   "cell_type": "code",
   "execution_count": null,
   "id": "4500580c-b678-425b-bef9-183406942ac1",
   "metadata": {},
   "outputs": [],
   "source": []
  },
  {
   "cell_type": "markdown",
   "id": "5a0b0aad-51c3-4a3e-8471-3726f240dc31",
   "metadata": {},
   "source": [
    "# Question_5: Describe the key creatures of sets and provide examples of their use"
   ]
  },
  {
   "cell_type": "code",
   "execution_count": 70,
   "id": "f9b566d0-cab8-4874-90d6-35bc1ddef056",
   "metadata": {},
   "outputs": [],
   "source": [
    "#Description : Sets are one of the data structure in the python nd it used to store the unique data . \n",
    "#A set in Python is a collection of unique elements. Sets are defined using curly braces {} or the set() constructor.\n",
    "\n",
    "#Key features of sets in python is :\n",
    "#  1. Uniqueness\n",
    "# 2.  Mutable\n",
    "# 3.  Unordered\n",
    "# 4. Set Operations\n",
    "#5. Frozensets\n",
    "#6 . Membership Testing\n",
    "#7. Set Methods\n",
    "\n",
    "# details of key feaured mentioned in below with examples . "
   ]
  },
  {
   "cell_type": "code",
   "execution_count": 6,
   "id": "0410cdb9-7c97-45b2-89cd-17b82af8fe94",
   "metadata": {},
   "outputs": [
    {
     "name": "stdout",
     "output_type": "stream",
     "text": [
      "Unique element set data {1, 2, 3, 100, 120}\n",
      "Display the set data after adding element {1, 2, 3, 100, 4, 120}\n",
      "{0, 1, 2, 3, 100, 4, 120}\n"
     ]
    }
   ],
   "source": [
    "#  1. Uniqueness : Sets automatically remove duplicate elements.\n",
    "sData = {1,100, 120, 2, 2, 3}\n",
    "print(f\"Unique element set data {sData}\")  # Output: {1, 2, 3}\n",
    "\n",
    "# 2.  Mutable : Sets can be modified after creation.\n",
    "# 3.  Unordered : Elements do not have a specific order. Sets how display in orders way how input has given \n",
    "\n",
    "sData.add(4)\n",
    "print(f\"Display the set data after adding element {sData}\")  # Output: {1, 2, 3, 4}"
   ]
  },
  {
   "cell_type": "code",
   "execution_count": 9,
   "id": "bfa82f32-07c8-44cc-9cd7-422f1f56d882",
   "metadata": {},
   "outputs": [
    {
     "name": "stdout",
     "output_type": "stream",
     "text": [
      "Union result {0, 1, 2, 3, 4, 5, 6, 7, 8, 9}\n",
      "Intersection result {3, 6}\n",
      "Difference result {1, 2, 4, 5}\n",
      "symmetric differnc result {0, 1, 2, 4, 5, 7, 8, 9}\n"
     ]
    }
   ],
   "source": [
    "# 4. Set Operations\n",
    "#Sets support operations like union, intersection,  difference and symmetric differnce. \n",
    "# here are the way to define all sets operation \n",
    "# union represent by \"|\" set1 | set2\n",
    "#Intersection represented by \"&\" set1 & set2\n",
    "#Difference represented by \" set1-set2\"\n",
    "#Symmetric Difference represented  by \"^\" set1^set2\n",
    "\n",
    "#example \n",
    "s1={1,2,3,4,5,6}\n",
    "s2={6,3,7,8,9,0}\n",
    "print(f\"Union result {s1|s2}\")\n",
    "print(f\"Intersection result {s1&s2}\")\n",
    "print(f\"Difference result {s1-s2}\")\n",
    "print(f\"symmetric differnc result {s1^s2}\")"
   ]
  },
  {
   "cell_type": "code",
   "execution_count": 19,
   "id": "f9e16ddd-4776-4ed0-8d29-947627c9e9a3",
   "metadata": {},
   "outputs": [
    {
     "ename": "AttributeError",
     "evalue": "'frozenset' object has no attribute 'add'",
     "output_type": "error",
     "traceback": [
      "\u001b[0;31m---------------------------------------------------------------------------\u001b[0m",
      "\u001b[0;31mAttributeError\u001b[0m                            Traceback (most recent call last)",
      "Cell \u001b[0;32mIn[19], line 6\u001b[0m\n\u001b[1;32m      1\u001b[0m \u001b[38;5;66;03m#5. Frozensets\u001b[39;00m\n\u001b[1;32m      2\u001b[0m \u001b[38;5;66;03m#In Python, a frozenset is an immutable version of a set. While regular sets (set) are mutable and allow \u001b[39;00m\n\u001b[1;32m      3\u001b[0m \u001b[38;5;66;03m#modifications (like adding or removing elements), frozensets are immutable and thus cannot be changed once \u001b[39;00m\n\u001b[1;32m      4\u001b[0m \u001b[38;5;66;03m#they are created. Here’s a concise overview of frozensets:\u001b[39;00m\n\u001b[1;32m      5\u001b[0m frozSet\u001b[38;5;241m=\u001b[39m\u001b[38;5;28mfrozenset\u001b[39m([\u001b[38;5;241m1\u001b[39m, \u001b[38;5;241m2\u001b[39m, \u001b[38;5;241m3\u001b[39m, \u001b[38;5;241m3\u001b[39m])\n\u001b[0;32m----> 6\u001b[0m \u001b[43mfrozSet\u001b[49m\u001b[38;5;241;43m.\u001b[39;49m\u001b[43madd\u001b[49m(\u001b[38;5;124m\"\u001b[39m\u001b[38;5;124mABC\u001b[39m\u001b[38;5;124m\"\u001b[39m)\n\u001b[1;32m      7\u001b[0m \u001b[38;5;28mprint\u001b[39m(frozSet)\n",
      "\u001b[0;31mAttributeError\u001b[0m: 'frozenset' object has no attribute 'add'"
     ]
    }
   ],
   "source": [
    "#5. Frozensets\n",
    "#In Python, a frozenset is an immutable version of a set. While regular sets (set) are mutable and allow \n",
    "#modifications (like adding or removing elements), frozensets are immutable and thus cannot be changed once \n",
    "#they are created. Here’s a concise overview of frozensets:\n",
    "\n",
    "#Frozenset will be denoted by frozenset([Element1, element2 ........])\n",
    "\n",
    "frozSet=frozenset([1, 2, 3, 3])\n",
    "frozSet.add(\"ABC\") # throw an error \n",
    "print(frozSet)"
   ]
  },
  {
   "cell_type": "code",
   "execution_count": 21,
   "id": "4f141eb6-e132-46a9-a956-3e8498647724",
   "metadata": {},
   "outputs": [
    {
     "name": "stdout",
     "output_type": "stream",
     "text": [
      "False\n"
     ]
    }
   ],
   "source": [
    "#6 . Membership Testing\n",
    "# Check weather given element is present in set using \"is\" \n",
    "#Example \n",
    "\n",
    "checkSet={True, \"Isha\" , \"Isha\" , 5600, 1401}\n",
    "print(0 in checkSet ) # if 0 in given set result will be true else false"
   ]
  },
  {
   "cell_type": "code",
   "execution_count": 4,
   "id": "38942609-d260-4dad-92e3-f3fbb5dcdfc1",
   "metadata": {},
   "outputs": [
    {
     "name": "stdout",
     "output_type": "stream",
     "text": [
      "After adding data to set {'Delhi', 'Karnakata', 'Mumbai'}\n",
      "After removing data to set {'Delhi', 'Mumbai'}\n",
      " after using pop operation: present data is : Delhi\n",
      "After adding multiple element  data to set: {'Kashmir', 'Andra', 'Mumbai'}\n",
      "After clearing all the data from set:\n",
      " set()\n"
     ]
    }
   ],
   "source": [
    "#7. Set Methods\n",
    "# in Python there are many methods are used to perform on set data structre thats are\n",
    "\n",
    "# add() : Purpose: Adds a single element to the set. If the element already exists,\n",
    "#the set remains unchanged (since sets are collections of unique elements).\n",
    "#Syntax: set.add(element)\n",
    "\n",
    "# remove(): Purpose: Removes a specific element from the set. Raises a KeyError if the element is not found.\n",
    "#Syntax: set.remove(element)\n",
    "\n",
    "# pop():Purpose: Removes and returns an arbitrary element from the set. If the set is empty, it raises a KeyError.\n",
    "#Syntax: set.pop()\n",
    "\n",
    "#update(): Purpose: Adds elements from an iterable (such as another set or a list) to the set.\n",
    "#Syntax: set.update(element)\n",
    "\n",
    "#clear(): Removes all elements from the set, leaving it empty.\n",
    "#Syntax: set.clear()\n",
    "\n",
    "\n",
    "#discard() : Removes a specific element from the set if it exists.\n",
    "#Does nothing if the element is not found (no error is raised).\n",
    "#Syntax: set.discard(element)\n",
    "\n",
    "# Examples \n",
    "stateData={\"Karnakata\", \"Delhi\"}\n",
    "stateData.add(\"Mumbai\")\n",
    "print(f\"After adding data to set {stateData}\")\n",
    "stateData.remove(\"Karnakata\")\n",
    "print(f\"After removing data to set {stateData}\")\n",
    "print(f\" after using pop operation: present data is : {stateData.pop()}\") # remove random element\n",
    "stateData.update([\"Andra\"], [\"Kashmir\"]) # adding 2 element to Set\n",
    "print(f\"After adding multiple element  data to set: {stateData}\")\n",
    "stateData.clear()\n",
    "print(f\"After clearing all the data from set:\\n {stateData}\") # empty set will be display "
   ]
  },
  {
   "cell_type": "code",
   "execution_count": null,
   "id": "63f417ea-e284-4041-ad82-a261ed0c75a7",
   "metadata": {},
   "outputs": [],
   "source": []
  },
  {
   "cell_type": "markdown",
   "id": "4ef8c138-55fd-4d02-845d-5144521de71e",
   "metadata": {},
   "source": [
    "# Question_6:- Discuss the use cases of tuples and sets in Python programming.\n"
   ]
  },
  {
   "cell_type": "code",
   "execution_count": 5,
   "id": "3b320d9a-858c-435d-82d9-d687f330ba69",
   "metadata": {},
   "outputs": [],
   "source": [
    "#Answer"
   ]
  },
  {
   "cell_type": "code",
   "execution_count": 6,
   "id": "3ab84b37-bb7e-47ec-9724-def540681efb",
   "metadata": {},
   "outputs": [],
   "source": [
    "#Tuples\n",
    "#Definition: A tuple is an immutable, ordered collection of elements. Once created, the elements of a tuple \n",
    "#cannot be changed, added, or removed. Tuples can hold elements of different data types and can be nested.\n",
    "\n",
    "#Use Cases for Tuples:\n",
    "#1.  Immutable Data:\n",
    "#Use tuples to represent fixed collections of items that should not change, such as coordinates in a 2D or 3D space.\n",
    "\n",
    "coordinates = (10, 20)  # Represents a fixed point in a 2D space\n",
    "\n",
    "\n",
    "#2.  Return Multiple Values: \n",
    "#Functions can return multiple values as a tuple, allowing you to group related data together.\n",
    "\n",
    "#3.  Key in Dictionaries:\n",
    "#Tuples can be used as keys in dictionaries because they are immutable, unlike lists.\n",
    "\n",
    "point_to_name = { (1, 2): \"A\", (3, 4): \"B\" } # here (1,2) and (3,4) are tuple and used as keys of dictionary\n",
    "\n",
    "\n",
    "#4.  Data Integrity:\n",
    "#Use tuples to protect data from accidental modification, ensuring that the data remains constant  throughout the program.\n",
    "\n",
    "\n",
    "#5.  Structuring Data:\n",
    "#Tuples are useful for grouping related data together, especially when the size and type of the group are known and fixed.\n",
    "\n",
    "student = (\"John Doe\", 21, \"Computer Science\")\n",
    "\n",
    "\n",
    "#6.  Performance:\n",
    "#Tuples have a slightly lower overhead compared to lists, making them faster and more memory-efficient for \n",
    "#certain use cases where immutability is required.\n"
   ]
  },
  {
   "cell_type": "code",
   "execution_count": 7,
   "id": "fb09e947-e317-4bdf-b00b-e389f3837ecd",
   "metadata": {},
   "outputs": [
    {
     "name": "stdout",
     "output_type": "stream",
     "text": [
      "3 is in the set\n"
     ]
    }
   ],
   "source": [
    "#Sets\n",
    "\n",
    "#Definition: A set is an unordered collection of unique elements. Sets are mutable, meaning you can add or \n",
    "#remove elements, but they do not allow duplicates and do not maintain any order.\n",
    "\n",
    "#Use Cases for Sets:\n",
    "\n",
    "#1.  Unique Collections:\n",
    "#Example: Use sets to store collections of unique items, ensuring that there are no duplicates.\n",
    "unique_numbers = {1, 2, 3, 4, 4, 5} # if we display it output is {1, 2, 3, 4, 5}\n",
    "\n",
    "\n",
    "#2.  Set Operations:\n",
    "#Example: Sets support mathematical set operations like union, intersection, and difference, which can be useful\n",
    "#for solving problems involving sets of data.\n",
    "\n",
    "set1 = {1, 2, 3}\n",
    "set2 = {3, 4, 5}\n",
    "union = set1 | set2  # Union: {1, 2, 3, 4, 5}\n",
    "intersection = set1 & set2  # Intersection: {3}\n",
    "difference = set1 - set2  # Difference: {1, 2}\n",
    "\n",
    "\n",
    "#3.  Membership Testing:\n",
    "#Example: Sets are optimized for membership tests. Checking if an item is in a set is generally faster than \n",
    "#checking membership in a list or tuple.\n",
    "items = {1, 2, 3, 4, 5}\n",
    "if 3 in items:\n",
    "    print(\"3 is in the set\") #output is true\n",
    "\n",
    "#4. Removing Duplicates:\n",
    "#Example: Use sets to remove duplicates from a list or other iterable.\n",
    "numbers = [1, 2, 2, 3, 4, 4, 5]\n",
    "unique_numbers = set(numbers)  # output is {1, 2, 3, 4, 5}\n",
    "\n",
    "#5.  Set Operations with Multiple Data Structures:\n",
    "#Example: Sets can be used for operations involving multiple data structures, like finding common elements \n",
    "#between multiple lists.\n",
    "list1 = [1, 2, 3, 4]\n",
    "list2 = [3, 4, 5, 6]\n",
    "common_elements = set(list1) & set(list2)  # {3, 4}\n",
    "\n"
   ]
  },
  {
   "cell_type": "code",
   "execution_count": null,
   "id": "e02698c2-10fe-47fd-b649-02ac2db00f92",
   "metadata": {},
   "outputs": [],
   "source": []
  },
  {
   "cell_type": "markdown",
   "id": "9c85b255-3c8e-42cc-ab04-9eeff17659fd",
   "metadata": {},
   "source": [
    "## Question_7: Describe how to add modify and delete items in a  dictionary with examples."
   ]
  },
  {
   "cell_type": "code",
   "execution_count": 8,
   "id": "b7bf435b-d95c-4b8a-8a53-28f2bbdd9220",
   "metadata": {},
   "outputs": [],
   "source": [
    "#Answer"
   ]
  },
  {
   "cell_type": "code",
   "execution_count": 13,
   "id": "fde803fa-11ab-4e27-9694-0afcc4f8d41b",
   "metadata": {},
   "outputs": [
    {
     "name": "stdout",
     "output_type": "stream",
     "text": [
      "After ading place to dictonary data now data presented in dictData is : \n",
      " {'name': 'Isha', 'ID': 123, 'place': 'Bangaloe'}\n",
      "\n",
      "After modifying the name's value ,  presented in dictData is : \n",
      " {'name': 'Isha Doddamani', 'ID': 123, 'place': 'Bangaloe'}\n",
      "\n",
      "After deleting the place's data  ,  presented in dictData is : \n",
      " {'name': 'Isha Doddamani', 'ID': 123}\n",
      "\n",
      "After deleting the ID's data  ,  presented in dictData is : \n",
      " {'name': 'Isha Doddamani'}\n"
     ]
    }
   ],
   "source": [
    "#Defination : In Python, dictionaries are mutable, which means you can add, modify, and delete items. \n",
    "#Here’s a detailed explanation with examples for each operation:\n",
    "\n",
    "# Adding data to Dictionary :\n",
    "#syntax dictionary[key] = value. \n",
    "#If the key already exists, this will update the value; otherwise, it will create a new key-value pair.\n",
    "dictData={\"name\":\"Isha\", \"ID\":123} \n",
    "dictData[\"place\"]=\"Bangaloe\" # Adding place key and bangalore as value to disctData\n",
    "print(f\"After ading place to dictonary data now data presented in dictData is : \\n {dictData}\")\n",
    "\n",
    "#Modifying data in Dictionary:\n",
    "#To modify an item in a dictionary, simply assign a new value to an existing key using the \n",
    "#syntax dictionary[key] = new_value.\n",
    "\n",
    "dictData[\"name\"]=\"Isha Doddamani\"\n",
    "print(f\"\\nAfter modifying the name's value ,  presented in dictData is : \\n {dictData}\")\n",
    "\n",
    "#Deleting Items from a Dictionary\n",
    "#You can delete items from a dictionary using the \n",
    "#   del statement and \n",
    "#   pop() method.\n",
    "\n",
    "#Using del Statement: Removes a key-value pair by specifying the key.\n",
    "#Syntax : del Dict_name[Key]\n",
    "\n",
    "del dictData[\"place\"]\n",
    "print(f\"\\nAfter deleting the place's data  ,  presented in dictData is : \\n {dictData}\")\n",
    "\n",
    "#Using pop() Method: Removes and returns the value associated with the specified key. we can also provide a default \n",
    "#value to return if the key does not exist.\n",
    "#Syntax : Dict_name.pop(key,DefaultValue) Here DefaultValue is optional\n",
    "\n",
    "dictData.pop(\"ID\")\n",
    "print(f\"\\nAfter deleting the ID's data  ,  presented in dictData is : \\n {dictData}\")"
   ]
  },
  {
   "cell_type": "markdown",
   "id": "47425f27-bfea-4def-adfa-e939ceb65923",
   "metadata": {},
   "source": [
    "## Question_8:- Discuss the importance of dictionary keys being  immutable and provide examples.\n"
   ]
  },
  {
   "cell_type": "code",
   "execution_count": 14,
   "id": "42cbd45b-e0e6-4b93-968c-d6bbb007c908",
   "metadata": {},
   "outputs": [],
   "source": [
    "#Answer"
   ]
  },
  {
   "cell_type": "code",
   "execution_count": 15,
   "id": "51ed339e-5292-4a96-ad83-2d0aaf679a46",
   "metadata": {},
   "outputs": [
    {
     "name": "stdout",
     "output_type": "stream",
     "text": [
      "{'productName(string)': 'Nothing', ('Version1', 'Version2'): ['Nothing.0', 'Nothing.1']}\n"
     ]
    }
   ],
   "source": [
    "#Importance of Immutable Dictionary Keys\n",
    "\n",
    "#1.  Hashability:\n",
    "#Dictionary keys are used to compute a hash value, which determines the location of the key-value pair in \n",
    "#the underlying hash table. Immutable types have a fixed hash value, ensuring consistent performance in operations\n",
    "#like lookups, insertions, and deletions.\n",
    "\n",
    "#Example: If a key were mutable and its hash value changed, it could lead to inconsistencies and errors in the \n",
    "#dictionary's internal data structure.\n",
    "\n",
    "#2.  Data Integrity:\n",
    "#Explanation: Immutable keys ensure that once a key is added to a dictionary, it cannot be altered. \n",
    "#This prevents accidental changes to the keys that could otherwise lead to unpredictable behavior or data corruption.\n",
    "\n",
    "#Example: An immutable key, such as a string or a tuple, maintains its integrity, so operations relying on the key \n",
    "#will function correctly.\n",
    "\n",
    "#Consistency:\n",
    "# Immutable keys guarantee that the dictionary maintains a consistent state. Since the keys cannot change, \n",
    "#the dictionary remains reliable and consistent for lookups and modifications.\n",
    "\n",
    "#Example: In a dictionary where keys are tuples, the tuple elements cannot change, so dictionary operations \n",
    "#relying on these keys remain consistent.\n",
    "\n",
    "\n",
    "\n",
    "\n",
    "# In Dictionary \"String\" and \"Tuples\" are used as keyes because they weere immutable and \"List\" and \"Dictionary \" also\n",
    "#can't use as keyes because its immutable . \n",
    "\n",
    "#Example for immutable keyes\n",
    "\n",
    "phoneData={\"productName(string)\":\"Nothing\" , (\"Version1\", \"Version2\"): [\"Nothing.0\", \"Nothing.1\"]} \n",
    "#Here productName(string) and  (\"Version1\", \"Version2\") - Tuple added as keyes and we wont get error \n",
    "print(phoneData)\n"
   ]
  },
  {
   "cell_type": "code",
   "execution_count": 17,
   "id": "741f877a-51e8-4182-8cb0-bf8f8462f2ec",
   "metadata": {},
   "outputs": [
    {
     "ename": "TypeError",
     "evalue": "unhashable type: 'list'",
     "output_type": "error",
     "traceback": [
      "\u001b[0;31m---------------------------------------------------------------------------\u001b[0m",
      "\u001b[0;31mTypeError\u001b[0m                                 Traceback (most recent call last)",
      "Cell \u001b[0;32mIn[17], line 3\u001b[0m\n\u001b[1;32m      1\u001b[0m \u001b[38;5;66;03m#Example for Mutable  keyes\u001b[39;00m\n\u001b[0;32m----> 3\u001b[0m phoneNameData\u001b[38;5;241m=\u001b[39m{\u001b[38;5;241m1\u001b[39m:\u001b[38;5;124m\"\u001b[39m\u001b[38;5;124mVivo\u001b[39m\u001b[38;5;124m\"\u001b[39m, [\u001b[38;5;241m2\u001b[39m,\u001b[38;5;241m3\u001b[39m]:[\u001b[38;5;124m\"\u001b[39m\u001b[38;5;124mRedmi\u001b[39m\u001b[38;5;124m\"\u001b[39m,\u001b[38;5;124m\"\u001b[39m\u001b[38;5;124mSamsung\u001b[39m\u001b[38;5;124m\"\u001b[39m]} \n\u001b[1;32m      4\u001b[0m \u001b[38;5;66;03m#[2,3]- List used as keyes . there are mutable hence we will get an error\u001b[39;00m\n\u001b[1;32m      5\u001b[0m \u001b[38;5;28mprint\u001b[39m(phoneNameData)\n",
      "\u001b[0;31mTypeError\u001b[0m: unhashable type: 'list'"
     ]
    }
   ],
   "source": [
    "#Example for Mutable  keyes\n",
    "\n",
    "phoneNameData={1:\"Vivo\", [2,3]:[\"Redmi\",\"Samsung\"]} \n",
    "#[2,3]- List used as keyes . there are mutable hence we will get an error\n",
    "print(phoneNameData)"
   ]
  },
  {
   "cell_type": "code",
   "execution_count": null,
   "id": "9bb23325-9d81-4a7c-bf30-34e7b3e087c8",
   "metadata": {},
   "outputs": [],
   "source": []
  },
  {
   "cell_type": "markdown",
   "id": "e65255b8-c9b3-4572-a12d-9f24dbe781fb",
   "metadata": {},
   "source": [
    "#Thank you"
   ]
  },
  {
   "cell_type": "code",
   "execution_count": null,
   "id": "3f0b66e0-7412-4bc6-9cd8-bf62ab342caf",
   "metadata": {},
   "outputs": [],
   "source": []
  }
 ],
 "metadata": {
  "kernelspec": {
   "display_name": "Python 3 (ipykernel)",
   "language": "python",
   "name": "python3"
  },
  "language_info": {
   "codemirror_mode": {
    "name": "ipython",
    "version": 3
   },
   "file_extension": ".py",
   "mimetype": "text/x-python",
   "name": "python",
   "nbconvert_exporter": "python",
   "pygments_lexer": "ipython3",
   "version": "3.10.8"
  }
 },
 "nbformat": 4,
 "nbformat_minor": 5
}
